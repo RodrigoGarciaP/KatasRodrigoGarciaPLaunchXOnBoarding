{
 "cells": [
  {
   "cell_type": "code",
   "execution_count": 1,
   "metadata": {},
   "outputs": [
    {
     "name": "stdout",
     "output_type": "stream",
     "text": [
      "¡Cuidado se acerca un asteoride!\n"
     ]
    }
   ],
   "source": [
    "# Ejercicio 1\n",
    "# Añadir el código necesario para crear una variable que guarde la velocidad del asteroide.\n",
    "# Escribe una expresión de prueba para calcular si necesita una advertencia.\n",
    "# Agregue las instrucciones que se ejecutarán si la expresión de prueba es true o false.\n",
    "asteoride = 49\n",
    "if asteoride > 25:\n",
    "    print('¡Cuidado se acerca un asteoride!')\n",
    "else:\n",
    "    print('Por hoy puedes seguir con tu día')\n",
    "\n"
   ]
  },
  {
   "cell_type": "code",
   "execution_count": 6,
   "metadata": {},
   "outputs": [
    {
     "name": "stdout",
     "output_type": "stream",
     "text": [
      "¡No hay luz en el cielo!\n"
     ]
    }
   ],
   "source": [
    "# Ejercicio 2\n",
    "# Agrega el código para crear una variable para un asteroide que viaja a 19 km/s\n",
    "# Escribe varias expresiones de prueba para determinar si puedes ver el rayo de luz desde la tierra\n",
    "# Agrega las instrucciones que se ejecutarán si las expresiones de prueba son True o False\n",
    "asteoride=19\n",
    "if asteoride==20:\n",
    "    print('¡Mira la luz en el cielo!')\n",
    "elif asteoride>20:\n",
    "    print('¡Mira la luz en el cielo!')\n",
    "else:\n",
    "    print('¡No hay luz en el cielo!')\n"
   ]
  },
  {
   "cell_type": "code",
   "execution_count": 8,
   "metadata": {},
   "outputs": [
    {
     "name": "stdout",
     "output_type": "stream",
     "text": [
      "¡Mira la luz en el cielo!\n"
     ]
    }
   ],
   "source": [
    "#Ejercicio 3\n",
    "# Agrega el código para crear nuevas variables para la velocidad y el tamaño del asteroide\n",
    "# Para probar el código, prueba con varias velocidades y tamaños\n",
    "# Escribe varias expresiones de prueba o combinaciones de expresiones de prueba para determinar qué mensaje \n",
    "# se debe enviar a Tierra.\n",
    "velocidadAsteroide = 25\n",
    "tamañoasteroide = 40\n",
    "if velocidadAsteroide > 25 and tamañoasteroide >25:\n",
    "    print('¡Corre a un lugar seguro, un asteroide viene a la tierra!')\n",
    "elif velocidadAsteroide >= 20:\n",
    "    print('¡Mira la luz en el cielo!')\n",
    "elif tamañoasteroide < 25:\n",
    "    print('Por hoy no hay nada interesante')\n",
    "else:\n",
    "    print('Por hoy no hay nada interesante')\n"
   ]
  },
  {
   "cell_type": "code",
   "execution_count": null,
   "metadata": {},
   "outputs": [],
   "source": []
  }
 ],
 "metadata": {
  "interpreter": {
   "hash": "a4a448d15c4e416c7290f6e0528a260aeb1284cb4b001f30f2a97bb0078bc126"
  },
  "kernelspec": {
   "display_name": "Python 3.10.2 64-bit",
   "language": "python",
   "name": "python3"
  },
  "language_info": {
   "codemirror_mode": {
    "name": "ipython",
    "version": 3
   },
   "file_extension": ".py",
   "mimetype": "text/x-python",
   "name": "python",
   "nbconvert_exporter": "python",
   "pygments_lexer": "ipython3",
   "version": "3.7.8"
  },
  "orig_nbformat": 4
 },
 "nbformat": 4,
 "nbformat_minor": 2
}
