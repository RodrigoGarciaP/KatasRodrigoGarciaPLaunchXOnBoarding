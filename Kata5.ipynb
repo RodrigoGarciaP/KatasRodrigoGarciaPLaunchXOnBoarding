{
 "cells": [
  {
   "cell_type": "markdown",
   "metadata": {},
   "source": [
    "Ejercicio1 - Utilizar operadores aritméticos"
   ]
  },
  {
   "cell_type": "code",
   "execution_count": 17,
   "metadata": {},
   "outputs": [],
   "source": [
    "# Crear variables para almacenar las dos distancias\n",
    "# ¡Asegúrate de quitar las comas!\n",
    "planeta1 = 149597870 \n",
    "planeta2 = 778547200"
   ]
  },
  {
   "cell_type": "code",
   "execution_count": 18,
   "metadata": {},
   "outputs": [
    {
     "name": "stdout",
     "output_type": "stream",
     "text": [
      "La distancia en kilomeotros es:\n",
      "628949330\n",
      "La distancia en millas es:\n",
      "390577533.93\n"
     ]
    }
   ],
   "source": [
    "# Calcular la distancia entre planetas\n",
    "distancia = planeta2 - planeta1\n",
    "print('La distancia en kilomeotros es:')\n",
    "print(distancia)\n",
    "millas = distancia * 0.621\n",
    "print('La distancia en millas es:')\n",
    "print( millas)"
   ]
  },
  {
   "cell_type": "markdown",
   "metadata": {},
   "source": [
    "Ejercicio 2: convierte cadenas en números y usa valores absolutos"
   ]
  },
  {
   "cell_type": "code",
   "execution_count": 21,
   "metadata": {},
   "outputs": [
    {
     "name": "stdout",
     "output_type": "stream",
     "text": [
      "57900000\n",
      "108200000\n"
     ]
    }
   ],
   "source": [
    "# Almacenar las entradas del usuario\n",
    "#Pista: variable = input(\"¿Cuál es tu nombre?\")\n",
    "planeta1 = input('Introduzca la distancia del sol al primer planeta en KM')\n",
    "planeta2 = input('Introduzca la distancia del sol al segundo planeta en KM')\n",
    "# Convierte las cadenas de ambos planetas a números enteros\n",
    "planeta1 = int(planeta1)\n",
    "planeta2 = int(planeta2)\n",
    "print(planeta1)\n",
    "print(planeta2)"
   ]
  },
  {
   "cell_type": "code",
   "execution_count": 22,
   "metadata": {},
   "outputs": [
    {
     "name": "stdout",
     "output_type": "stream",
     "text": [
      "50300000\n",
      "31236300.0\n"
     ]
    }
   ],
   "source": [
    "# Realizar el cálculo y determinar el valor absoluto\n",
    "# Convertir de KM a Millas\n",
    "distancia = planeta2 - planeta1\n",
    "print(distancia)\n",
    "millas = distancia * 0.621\n",
    "print(abs(millas))"
   ]
  }
 ],
 "metadata": {
  "interpreter": {
   "hash": "a4a448d15c4e416c7290f6e0528a260aeb1284cb4b001f30f2a97bb0078bc126"
  },
  "kernelspec": {
   "display_name": "Python 3.10.2 64-bit",
   "language": "python",
   "name": "python3"
  },
  "language_info": {
   "codemirror_mode": {
    "name": "ipython",
    "version": 3
   },
   "file_extension": ".py",
   "mimetype": "text/x-python",
   "name": "python",
   "nbconvert_exporter": "python",
   "pygments_lexer": "ipython3",
   "version": "3.7.8"
  },
  "orig_nbformat": 4
 },
 "nbformat": 4,
 "nbformat_minor": 2
}
