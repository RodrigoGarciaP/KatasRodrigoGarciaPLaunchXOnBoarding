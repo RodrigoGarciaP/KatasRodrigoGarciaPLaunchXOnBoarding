{
 "cells": [
  {
   "cell_type": "markdown",
   "metadata": {},
   "source": [
    "Ejercicio 1: Trabajar con argumentos en funciones"
   ]
  },
  {
   "cell_type": "code",
   "execution_count": 6,
   "metadata": {},
   "outputs": [],
   "source": [
    "#Función para leer 3 tanques de combustible y muestre el promedio\n",
    "def generaReporte(tanquePrincipal, tanqueExterno, tanqueHidrogrno):\n",
    "    promedio = (tanquePrincipal + tanqueExterno + tanqueHidrogrno) / 3\n",
    "    return f\"\"\"Reporte de combustible:\n",
    "    Promedio total: {promedio}%\n",
    "    Tanque Principal: {tanquePrincipal}%\n",
    "    Tanque Externo: {tanqueExterno}%\n",
    "    Tanque Hidrogeno: {tanqueHidrogrno}% \"\"\""
   ]
  },
  {
   "cell_type": "code",
   "execution_count": 7,
   "metadata": {},
   "outputs": [
    {
     "name": "stdout",
     "output_type": "stream",
     "text": [
      "Reporte de combustible:\n",
      "    Total Average: 78.33333333333333%\n",
      "    Tanque Principal: 80%\n",
      "    Tanque Externo: 70%\n",
      "    Tanque Hidrogeno: 85% \n"
     ]
    }
   ],
   "source": [
    "#Llamamos a la función que genera el reporte print(funcion(tanque1, tanque2, tanque3))\n",
    "print(generaReporte(80, 70, 85))"
   ]
  },
  {
   "cell_type": "code",
   "execution_count": 9,
   "metadata": {},
   "outputs": [],
   "source": [
    "#Función promedio \n",
    "def average(values):\n",
    "    total = sum(values)\n",
    "    numeroElementos = len(values)\n",
    "    return total / numeroElementos\n",
    "\n",
    "# Pruebe la función de promedio con una lista de enteros\n",
    "#average([80, 85, 81]) "
   ]
  },
  {
   "cell_type": "code",
   "execution_count": 11,
   "metadata": {},
   "outputs": [],
   "source": [
    "#Actualiza la función\n",
    "def generaReporte(tanquePrincipal, tanqueExterno, tanqueHidrogrno):\n",
    "    return f\"\"\"Fuel Report:\n",
    "    Promedio total: {average([tanquePrincipal, tanqueExterno, tanqueHidrogrno])}%\n",
    "    Tanque principal: {tanquePrincipal}%\n",
    "    Tanque Externo: {tanqueExterno}%\n",
    "    Tanque Hidrogrno: {tanqueHidrogrno}% \n",
    "    \"\"\"\n",
    "    print(generate_report(88, 76, 70))"
   ]
  },
  {
   "cell_type": "markdown",
   "metadata": {},
   "source": [
    "Ejercicio 2: Trabajo con argumentos de palabra clave"
   ]
  },
  {
   "cell_type": "code",
   "execution_count": 15,
   "metadata": {},
   "outputs": [
    {
     "name": "stdout",
     "output_type": "stream",
     "text": [
      "\n",
      "    Mision a Moon\n",
      "    Tiempo total de viaje: 65 minutos\n",
      "    Combustible total restante: 500000 gallones\n",
      "    \n"
     ]
    }
   ],
   "source": [
    "# Función con un informe preciso de la misión. Considera hora de prelanzamiento, tiempo de vuelo, \n",
    "# destino, tanque externo y tanque interno\n",
    "def reporteMision(hrAntesLanzamiento, tiempoVuelo, destino, tanquExterno, tanque_principal):\n",
    "    return f\"\"\"\n",
    "    Mision a {destino}\n",
    "    Tiempo total de viaje: {hrAntesLanzamiento + tiempoVuelo} minutos\n",
    "    Combustible total restante: {tanquExterno + tanque_principal} gallones\n",
    "    \"\"\"\n",
    "\n",
    "print(reporteMision(14, 51, \"Moon\", 200000, 300000))"
   ]
  },
  {
   "cell_type": "code",
   "execution_count": 23,
   "metadata": {},
   "outputs": [
    {
     "name": "stdout",
     "output_type": "stream",
     "text": [
      "\n",
      "    Mision a Moon\n",
      "    Tiempo total de viaje: 76 minutes\n",
      "    Combustible total restante: 500000\n",
      "    \n"
     ]
    }
   ],
   "source": [
    "# Escribe tu nueva función de reporte considerando lo anterior\n",
    "def reporteMision(destino, *minutos, **depositoCombustible):\n",
    "    return f\"\"\"\n",
    "    Mision a {destino}\n",
    "    Tiempo total de viaje: {sum(minutos)} minutes\n",
    "    Combustible total restante: {sum(depositoCombustible.values())}\n",
    "    \"\"\"\n",
    "\n",
    "print(reporteMision(\"Moon\", 10, 15, 51, main=300000, external=200000))"
   ]
  },
  {
   "cell_type": "code",
   "execution_count": 24,
   "metadata": {},
   "outputs": [
    {
     "name": "stdout",
     "output_type": "stream",
     "text": [
      "\n",
      "    Mision a  Moon\n",
      "    Tiempo total de viaje: 74 minutos\n",
      "    TCombustible total restante 500000\n",
      "    main tanque --> 300000 gallons izquierdos\n",
      "external tanque --> 200000 gallons izquierdos\n",
      "\n"
     ]
    }
   ],
   "source": [
    "# Escribe tu nueva función\n",
    "def reporteMision(destino, *minutos, **depositoCombustible):\n",
    "    main_report = f\"\"\"\n",
    "    Mision a  {destino}\n",
    "    Tiempo total de viaje: {sum(minutos)} minutos\n",
    "    TCombustible total restante {sum(depositoCombustible.values())}\n",
    "    \"\"\"\n",
    "    for tank_name, gallons in depositoCombustible.items():\n",
    "        main_report += f\"{tank_name} tanque --> {gallons} gallons izquierdos\\n\"\n",
    "    return main_report\n",
    "\n",
    "print(reporteMision(\"Moon\", 8, 11, 55, main=300000, external=200000))"
   ]
  }
 ],
 "metadata": {
  "interpreter": {
   "hash": "a4a448d15c4e416c7290f6e0528a260aeb1284cb4b001f30f2a97bb0078bc126"
  },
  "kernelspec": {
   "display_name": "Python 3.10.2 64-bit",
   "language": "python",
   "name": "python3"
  },
  "language_info": {
   "codemirror_mode": {
    "name": "ipython",
    "version": 3
   },
   "file_extension": ".py",
   "mimetype": "text/x-python",
   "name": "python",
   "nbconvert_exporter": "python",
   "pygments_lexer": "ipython3",
   "version": "3.7.8"
  },
  "orig_nbformat": 4
 },
 "nbformat": 4,
 "nbformat_minor": 2
}
